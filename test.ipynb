{
 "cells": [
  {
   "cell_type": "code",
   "execution_count": 1,
   "metadata": {},
   "outputs": [],
   "source": [
    "import cv2\n",
    "import os\n",
    "import random\n",
    "import argparse\n",
    "import numpy as np"
   ]
  },
  {
   "cell_type": "code",
   "execution_count": 18,
   "metadata": {},
   "outputs": [],
   "source": [
    "target_img_size = (32, 32)\n",
    "def extract_hog_features(img):\n",
    "    img = cv2.resize(img, target_img_size)\n",
    "    win_size = (32, 32)\n",
    "    cell_size = (4, 4)\n",
    "    block_size_in_cells = (2, 2)\n",
    "\n",
    "    block_size = (block_size_in_cells[1] * cell_size[1],\n",
    "                  block_size_in_cells[0] * cell_size[0])\n",
    "    block_stride = (cell_size[1], cell_size[0])\n",
    "    nbins = 9\n",
    "    hog = cv2.HOGDescriptor(win_size, block_size,\n",
    "                            block_stride, cell_size, nbins)\n",
    "    h = hog.compute(img)\n",
    "    h = h.flatten()\n",
    "    print(h.shape)\n",
    "    return h\n",
    "\n",
    "def extract_features(img, feature_set='hog'):\n",
    "    return extract_hog_features(img)"
   ]
  },
  {
   "cell_type": "code",
   "execution_count": 21,
   "metadata": {},
   "outputs": [
    {
     "name": "stdout",
     "output_type": "stream",
     "text": [
      "(1764,)\n",
      "(1764,)\n"
     ]
    },
    {
     "data": {
      "text/plain": [
       "array([0.00289038, 0.        , 0.        , ..., 0.        , 0.        ,\n",
       "       0.        ], dtype=float32)"
      ]
     },
     "execution_count": 21,
     "metadata": {},
     "output_type": "execute_result"
    }
   ],
   "source": [
    "path = os.getcwd()\n",
    "img = cv2.imread(path+\"/dataset/grandstaff_img/beethoven/piano-sonatas/sonata02-2/maj2_down_m-1-4.jpg\")\n",
    "extract_features(img)\n",
    "\n",
    "img = cv2.imread(path+\"/dataset/grandstaff_img/beethoven/piano-sonatas/sonata01-1/original_m-0-5.jpg\")\n",
    "extract_features(img)"
   ]
  },
  {
   "cell_type": "code",
   "execution_count": 12,
   "metadata": {},
   "outputs": [],
   "source": [
    "def get_directories(path):\n",
    "    directories = []\n",
    "    for root, _, files in os.walk(path):\n",
    "        for file in files:\n",
    "            if file.endswith('.bekrn') or file.endswith('.jpg'):\n",
    "                directories.append(root)\n",
    "                break \n",
    "    return directories\n",
    "\n",
    "def pad_features(features, max_length):\n",
    "    # Pad the feature vectors so they all have the same size\n",
    "    padded_features = []\n",
    "    for feature in features:\n",
    "        if len(feature) < max_length:\n",
    "            # If the feature is smaller than the max length, pad it\n",
    "            padded_feature = np.pad(feature, (0, max_length - len(feature)), 'constant', constant_values=0)\n",
    "        else:\n",
    "            # If the feature is already max length, keep it as is\n",
    "            padded_feature = feature\n",
    "        padded_features.append(padded_feature)\n",
    "    return padded_features\n",
    "\n",
    "def load_dataset(feature_set='hog'):\n",
    "    labels = []\n",
    "    features = []\n",
    "    directories = get_directories('./dataset')\n",
    "\n",
    "    for dir_name in directories:\n",
    "        img_filenames = [fn for fn in os.listdir(dir_name) if fn.endswith('.jpg') or fn.endswith('.bekrn')]\n",
    "        # Pair each .bekrn file with its corresponding .png file\n",
    "        for fn in img_filenames:\n",
    "            if fn.endswith('.bekrn'):\n",
    "                label = fn\n",
    "                img_name = fn.replace('.bekrn', '.jpg')\n",
    "                if img_name in img_filenames:  # Check if the corresponding .png file exists\n",
    "                    labels.append(label)\n",
    "\n",
    "                    img_path = os.path.join(dir_name, img_name)\n",
    "                    img = cv2.imread(img_path)\n",
    "                    features.append(extract_features(img, feature_set))\n",
    "                    # print(len(features))\n",
    "                    # print(len(features[0]))\n",
    "                    # print()\n",
    "                else:\n",
    "                    print(f\"Image {img_name} not found for label {label}\")\n",
    "        break \n",
    "        print('Finished processing: ', dir_name)\n",
    "    max_feature_length = max(len(f) for f in features)\n",
    "    # Pad all features to have the same length\n",
    "    features = pad_features(features, max_feature_length)\n",
    "    # features n x len(h), labels n\n",
    "    return features, labels\n"
   ]
  },
  {
   "cell_type": "code",
   "execution_count": null,
   "metadata": {},
   "outputs": [],
   "source": []
  },
  {
   "cell_type": "code",
   "execution_count": 10,
   "metadata": {},
   "outputs": [],
   "source": [
    "from sklearn import svm\n",
    "random_seed = 42\n",
    "random.seed(random_seed)\n",
    "classifiers = {\n",
    "    'SVM': svm.LinearSVC(random_state=random_seed)\n",
    "}"
   ]
  },
  {
   "cell_type": "code",
   "execution_count": 11,
   "metadata": {},
   "outputs": [],
   "source": [
    "def run_experiment(train_features, train_labels,  model_name):\n",
    "    model = classifiers[model_name]\n",
    "    print('############## Training', model_name, \"##############\")\n",
    "    # Train the model only on the training features\n",
    "    # np_train_feature = np.array(train_features)\n",
    "    # print(np_train_feature.shape())\n",
    "    # train_features_np = np.array(train_features, dtype = object)\n",
    "    # train_labels_np = np.array(train_labels, dtype = object)\n",
    "    model.fit(train_features, train_labels)\n",
    "    print('it worked')\n",
    "    return model"
   ]
  },
  {
   "cell_type": "code",
   "execution_count": 16,
   "metadata": {},
   "outputs": [
    {
     "name": "stdout",
     "output_type": "stream",
     "text": [
      "['mozart', 'chopin', 'joplin', 'beethoven', 'hummel', 'scarlatti-d']\n",
      "grandstaff_img\n",
      "grandstaff_img\n",
      "grandstaff_img\n",
      "grandstaff_img\n",
      "grandstaff_img\n",
      "grandstaff_img\n",
      "finished processing:  grandstaff_img\n",
      "['grandstaff-lmx']\n",
      "grandstaff_lmx\n",
      "finished processing:  grandstaff_lmx\n"
     ]
    },
    {
     "ename": "TypeError",
     "evalue": "cannot unpack non-iterable NoneType object",
     "output_type": "error",
     "traceback": [
      "\u001b[0;31m---------------------------------------------------------------------------\u001b[0m",
      "\u001b[0;31mTypeError\u001b[0m                                 Traceback (most recent call last)",
      "Cell \u001b[0;32mIn[16], line 1\u001b[0m\n\u001b[0;32m----> 1\u001b[0m features, labels \u001b[38;5;241m=\u001b[39m load_dataset()\n\u001b[1;32m      2\u001b[0m \u001b[38;5;28mprint\u001b[39m(np\u001b[38;5;241m.\u001b[39marray(features)\u001b[38;5;241m.\u001b[39mshape)\n\u001b[1;32m      3\u001b[0m run_experiment(train_features\u001b[38;5;241m=\u001b[39mfeatures,train_labels\u001b[38;5;241m=\u001b[39mlabels, model_name \u001b[38;5;241m=\u001b[39m \u001b[38;5;124m'\u001b[39m\u001b[38;5;124mSVM\u001b[39m\u001b[38;5;124m'\u001b[39m )\n",
      "\u001b[0;31mTypeError\u001b[0m: cannot unpack non-iterable NoneType object"
     ]
    }
   ],
   "source": [
    "features, labels = load_dataset()\n",
    "print(np.array(features).shape)\n",
    "run_experiment(train_features=features,train_labels=labels, model_name = 'SVM' )"
   ]
  },
  {
   "cell_type": "code",
   "execution_count": null,
   "metadata": {},
   "outputs": [],
   "source": []
  }
 ],
 "metadata": {
  "kernelspec": {
   "display_name": "Python 3",
   "language": "python",
   "name": "python3"
  },
  "language_info": {
   "codemirror_mode": {
    "name": "ipython",
    "version": 3
   },
   "file_extension": ".py",
   "mimetype": "text/x-python",
   "name": "python",
   "nbconvert_exporter": "python",
   "pygments_lexer": "ipython3",
   "version": "3.10.13"
  }
 },
 "nbformat": 4,
 "nbformat_minor": 2
}
