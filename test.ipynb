{
 "cells": [
  {
   "cell_type": "code",
   "execution_count": 1,
   "metadata": {},
   "outputs": [],
   "source": [
    "import cv2\n",
    "import os\n",
    "import random\n",
    "import argparse\n",
    "import numpy as np"
   ]
  },
  {
   "cell_type": "code",
   "execution_count": 23,
   "metadata": {},
   "outputs": [],
   "source": [
    "target_img_size = (32, 32)\n",
    "def extract_hog_features(img):\n",
    "    img = cv2.resize(img, target_img_size)\n",
    "    win_size = (32, 32)\n",
    "    cell_size = (4, 4)\n",
    "    block_size_in_cells = (2, 2)\n",
    "\n",
    "    block_size = (block_size_in_cells[1] * cell_size[1],\n",
    "                  block_size_in_cells[0] * cell_size[0])\n",
    "    block_stride = (cell_size[1], cell_size[0])\n",
    "    nbins = 9\n",
    "    hog = cv2.HOGDescriptor(win_size, block_size,\n",
    "                            block_stride, cell_size, nbins)\n",
    "    h = hog.compute(img)\n",
    "    h = h.flatten()\n",
    "    print(h.shape)\n",
    "    return h\n",
    "\n",
    "def extract_features(img, feature_set='hog'):\n",
    "    return extract_hog_features(img)"
   ]
  },
  {
   "cell_type": "code",
   "execution_count": 21,
   "metadata": {},
   "outputs": [
    {
     "name": "stdout",
     "output_type": "stream",
     "text": [
      "(1764,)\n",
      "(1764,)\n"
     ]
    },
    {
     "data": {
      "text/plain": [
       "array([0.00289038, 0.        , 0.        , ..., 0.        , 0.        ,\n",
       "       0.        ], dtype=float32)"
      ]
     },
     "execution_count": 21,
     "metadata": {},
     "output_type": "execute_result"
    }
   ],
   "source": [
    "path = os.getcwd()\n",
    "img = cv2.imread(path+\"/dataset/grandstaff_img/beethoven/piano-sonatas/sonata02-2/maj2_down_m-1-4.jpg\")\n",
    "extract_features(img)\n",
    "\n",
    "img = cv2.imread(path+\"/dataset/grandstaff_img/beethoven/piano-sonatas/sonata01-1/original_m-0-5.jpg\")\n",
    "extract_features(img)"
   ]
  },
  {
   "cell_type": "code",
   "execution_count": 24,
   "metadata": {},
   "outputs": [],
   "source": [
    "def get_directories(path):\n",
    "    directories = []\n",
    "    for root, _, files in os.walk(path):\n",
    "        for file in files:\n",
    "            if file.endswith('.bekrn') or file.endswith('.jpg'):\n",
    "                directories.append(root)\n",
    "                break \n",
    "    return directories\n",
    "\n",
    "def pad_features(features, max_length):\n",
    "    # Pad the feature vectors so they all have the same size\n",
    "    padded_features = []\n",
    "    for feature in features:\n",
    "        if len(feature) < max_length:\n",
    "            # If the feature is smaller than the max length, pad it\n",
    "            padded_feature = np.pad(feature, (0, max_length - len(feature)), 'constant', constant_values=0)\n",
    "        else:\n",
    "            # If the feature is already max length, keep it as is\n",
    "            padded_feature = feature\n",
    "        padded_features.append(padded_feature)\n",
    "    return padded_features\n",
    "\n",
    "def load_dataset(feature_set='hog'):\n",
    "    labels = []\n",
    "    features = []\n",
    "    directories = get_directories('./dataset')\n",
    "\n",
    "    for dir_name in directories:\n",
    "        img_filenames = [fn for fn in os.listdir(dir_name) if fn.endswith('.jpg') or fn.endswith('.bekrn')]\n",
    "        # Pair each .bekrn file with its corresponding .png file\n",
    "        for fn in img_filenames:\n",
    "            if fn.endswith('.bekrn'):\n",
    "                label = fn\n",
    "                img_name = fn.replace('.bekrn', '.jpg')\n",
    "                if img_name in img_filenames:  # Check if the corresponding .png file exists\n",
    "                    labels.append(label)\n",
    "\n",
    "                    img_path = os.path.join(dir_name, img_name)\n",
    "                    img = cv2.imread(img_path)\n",
    "                    features.append(extract_features(img, feature_set))\n",
    "                    # print(len(features))\n",
    "                    # print(len(features[0]))\n",
    "                    # print()\n",
    "                else:\n",
    "                    print(f\"Image {img_name} not found for label {label}\")\n",
    "        break \n",
    "        print('Finished processing: ', dir_name)\n",
    "    max_feature_length = max(len(f) for f in features)\n",
    "    # Pad all features to have the same length\n",
    "    features = pad_features(features, max_feature_length)\n",
    "    # features n x len(h), labels n\n",
    "    return features, labels\n"
   ]
  },
  {
   "cell_type": "code",
   "execution_count": null,
   "metadata": {},
   "outputs": [],
   "source": []
  },
  {
   "cell_type": "code",
   "execution_count": 25,
   "metadata": {},
   "outputs": [],
   "source": [
    "from sklearn import svm\n",
    "random_seed = 42\n",
    "random.seed(random_seed)\n",
    "classifiers = {\n",
    "    'SVM': svm.LinearSVC(random_state=random_seed)\n",
    "}"
   ]
  },
  {
   "cell_type": "code",
   "execution_count": 26,
   "metadata": {},
   "outputs": [],
   "source": [
    "def run_experiment(train_features, train_labels,  model_name):\n",
    "    model = classifiers[model_name]\n",
    "    print('############## Training', model_name, \"##############\")\n",
    "    # Train the model only on the training features\n",
    "    # np_train_feature = np.array(train_features)\n",
    "    # print(np_train_feature.shape())\n",
    "    # train_features_np = np.array(train_features, dtype = object)\n",
    "    # train_labels_np = np.array(train_labels, dtype = object)\n",
    "    model.fit(train_features, train_labels)\n",
    "    print('it worked')\n",
    "    return model"
   ]
  },
  {
   "cell_type": "code",
   "execution_count": 27,
   "metadata": {},
   "outputs": [
    {
     "name": "stdout",
     "output_type": "stream",
     "text": [
      "(1764,)\n",
      "(1764,)\n",
      "(1764,)\n",
      "(1764,)\n",
      "(1764,)\n",
      "(1764,)\n",
      "(1764,)\n",
      "(1764,)\n",
      "(1764,)\n",
      "(1764,)\n",
      "(1764,)\n",
      "(1764,)\n",
      "(1764,)\n",
      "(1764,)\n",
      "(1764,)\n",
      "(1764,)\n",
      "(1764,)\n",
      "(1764,)\n",
      "(1764,)\n",
      "(1764,)\n",
      "(1764,)\n",
      "(1764,)\n",
      "(1764,)\n",
      "(1764,)\n",
      "(1764,)\n",
      "(1764,)\n",
      "(1764,)\n",
      "(1764,)\n",
      "(1764,)\n",
      "(1764,)\n",
      "(1764,)\n",
      "(1764,)\n",
      "(1764,)\n",
      "(1764,)\n",
      "(1764,)\n",
      "(1764,)\n",
      "(1764,)\n",
      "(1764,)\n",
      "(1764,)\n",
      "(1764,)\n",
      "(1764,)\n",
      "(1764,)\n",
      "(1764,)\n",
      "(1764,)\n",
      "(1764,)\n",
      "(1764,)\n",
      "(1764,)\n",
      "(1764,)\n",
      "(1764,)\n",
      "(1764,)\n",
      "(1764,)\n",
      "(1764,)\n",
      "(1764,)\n",
      "(1764,)\n",
      "(1764,)\n",
      "(1764,)\n",
      "(1764,)\n",
      "(1764,)\n",
      "(1764,)\n",
      "(1764,)\n",
      "(1764,)\n",
      "(1764,)\n",
      "(62, 1764)\n",
      "############## Training SVM ##############\n",
      "it worked\n"
     ]
    },
    {
     "data": {
      "text/html": [
       "<style>#sk-container-id-1 {color: black;background-color: white;}#sk-container-id-1 pre{padding: 0;}#sk-container-id-1 div.sk-toggleable {background-color: white;}#sk-container-id-1 label.sk-toggleable__label {cursor: pointer;display: block;width: 100%;margin-bottom: 0;padding: 0.3em;box-sizing: border-box;text-align: center;}#sk-container-id-1 label.sk-toggleable__label-arrow:before {content: \"▸\";float: left;margin-right: 0.25em;color: #696969;}#sk-container-id-1 label.sk-toggleable__label-arrow:hover:before {color: black;}#sk-container-id-1 div.sk-estimator:hover label.sk-toggleable__label-arrow:before {color: black;}#sk-container-id-1 div.sk-toggleable__content {max-height: 0;max-width: 0;overflow: hidden;text-align: left;background-color: #f0f8ff;}#sk-container-id-1 div.sk-toggleable__content pre {margin: 0.2em;color: black;border-radius: 0.25em;background-color: #f0f8ff;}#sk-container-id-1 input.sk-toggleable__control:checked~div.sk-toggleable__content {max-height: 200px;max-width: 100%;overflow: auto;}#sk-container-id-1 input.sk-toggleable__control:checked~label.sk-toggleable__label-arrow:before {content: \"▾\";}#sk-container-id-1 div.sk-estimator input.sk-toggleable__control:checked~label.sk-toggleable__label {background-color: #d4ebff;}#sk-container-id-1 div.sk-label input.sk-toggleable__control:checked~label.sk-toggleable__label {background-color: #d4ebff;}#sk-container-id-1 input.sk-hidden--visually {border: 0;clip: rect(1px 1px 1px 1px);clip: rect(1px, 1px, 1px, 1px);height: 1px;margin: -1px;overflow: hidden;padding: 0;position: absolute;width: 1px;}#sk-container-id-1 div.sk-estimator {font-family: monospace;background-color: #f0f8ff;border: 1px dotted black;border-radius: 0.25em;box-sizing: border-box;margin-bottom: 0.5em;}#sk-container-id-1 div.sk-estimator:hover {background-color: #d4ebff;}#sk-container-id-1 div.sk-parallel-item::after {content: \"\";width: 100%;border-bottom: 1px solid gray;flex-grow: 1;}#sk-container-id-1 div.sk-label:hover label.sk-toggleable__label {background-color: #d4ebff;}#sk-container-id-1 div.sk-serial::before {content: \"\";position: absolute;border-left: 1px solid gray;box-sizing: border-box;top: 0;bottom: 0;left: 50%;z-index: 0;}#sk-container-id-1 div.sk-serial {display: flex;flex-direction: column;align-items: center;background-color: white;padding-right: 0.2em;padding-left: 0.2em;position: relative;}#sk-container-id-1 div.sk-item {position: relative;z-index: 1;}#sk-container-id-1 div.sk-parallel {display: flex;align-items: stretch;justify-content: center;background-color: white;position: relative;}#sk-container-id-1 div.sk-item::before, #sk-container-id-1 div.sk-parallel-item::before {content: \"\";position: absolute;border-left: 1px solid gray;box-sizing: border-box;top: 0;bottom: 0;left: 50%;z-index: -1;}#sk-container-id-1 div.sk-parallel-item {display: flex;flex-direction: column;z-index: 1;position: relative;background-color: white;}#sk-container-id-1 div.sk-parallel-item:first-child::after {align-self: flex-end;width: 50%;}#sk-container-id-1 div.sk-parallel-item:last-child::after {align-self: flex-start;width: 50%;}#sk-container-id-1 div.sk-parallel-item:only-child::after {width: 0;}#sk-container-id-1 div.sk-dashed-wrapped {border: 1px dashed gray;margin: 0 0.4em 0.5em 0.4em;box-sizing: border-box;padding-bottom: 0.4em;background-color: white;}#sk-container-id-1 div.sk-label label {font-family: monospace;font-weight: bold;display: inline-block;line-height: 1.2em;}#sk-container-id-1 div.sk-label-container {text-align: center;}#sk-container-id-1 div.sk-container {/* jupyter's `normalize.less` sets `[hidden] { display: none; }` but bootstrap.min.css set `[hidden] { display: none !important; }` so we also need the `!important` here to be able to override the default hidden behavior on the sphinx rendered scikit-learn.org. See: https://github.com/scikit-learn/scikit-learn/issues/21755 */display: inline-block !important;position: relative;}#sk-container-id-1 div.sk-text-repr-fallback {display: none;}</style><div id=\"sk-container-id-1\" class=\"sk-top-container\"><div class=\"sk-text-repr-fallback\"><pre>LinearSVC(random_state=42)</pre><b>In a Jupyter environment, please rerun this cell to show the HTML representation or trust the notebook. <br />On GitHub, the HTML representation is unable to render, please try loading this page with nbviewer.org.</b></div><div class=\"sk-container\" hidden><div class=\"sk-item\"><div class=\"sk-estimator sk-toggleable\"><input class=\"sk-toggleable__control sk-hidden--visually\" id=\"sk-estimator-id-1\" type=\"checkbox\" checked><label for=\"sk-estimator-id-1\" class=\"sk-toggleable__label sk-toggleable__label-arrow\">LinearSVC</label><div class=\"sk-toggleable__content\"><pre>LinearSVC(random_state=42)</pre></div></div></div></div></div>"
      ],
      "text/plain": [
       "LinearSVC(random_state=42)"
      ]
     },
     "execution_count": 27,
     "metadata": {},
     "output_type": "execute_result"
    }
   ],
   "source": [
    "features, labels = load_dataset()\n",
    "print(np.array(features).shape)\n",
    "run_experiment(train_features=features,train_labels=labels, model_name = 'SVM' )"
   ]
  },
  {
   "cell_type": "code",
   "execution_count": null,
   "metadata": {},
   "outputs": [],
   "source": []
  }
 ],
 "metadata": {
  "kernelspec": {
   "display_name": "Python 3",
   "language": "python",
   "name": "python3"
  },
  "language_info": {
   "codemirror_mode": {
    "name": "ipython",
    "version": 3
   },
   "file_extension": ".py",
   "mimetype": "text/x-python",
   "name": "python",
   "nbconvert_exporter": "python",
   "pygments_lexer": "ipython3",
   "version": "3.10.13"
  }
 },
 "nbformat": 4,
 "nbformat_minor": 2
}
